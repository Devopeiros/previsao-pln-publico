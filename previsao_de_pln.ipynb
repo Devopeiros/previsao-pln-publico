{
 "cells": [
  {
   "cell_type": "markdown",
   "metadata": {},
   "source": [
    "# Atividade avaliativa final - Tópicos especiais em business inteligence e analytics 3"
   ]
  },
  {
   "cell_type": "markdown",
   "metadata": {},
   "source": [
    "# Alunos\n",
    "\n",
    "* Lucas Oliveira Dantas\n",
    "* Newton Pereira de Paiva\n",
    "* Raphael Gonçalves Silva \n",
    "* Raphael Oliveira dos Reis"
   ]
  },
  {
   "cell_type": "markdown",
   "metadata": {},
   "source": [
    "## Tópicos"
   ]
  },
  {
   "cell_type": "markdown",
   "metadata": {},
   "source": [
    "- Introdução\n",
    "- Estudo de caso\n",
    "- Importando bibliotecas\n",
    "- Importando o conjunto de dados\n",
    "- Preparação do texto\n",
    "- Contando as palavras\n",
    "- Conclusão (falta fazer)"
   ]
  },
  {
   "cell_type": "markdown",
   "metadata": {},
   "source": [
    "## Introdução"
   ]
  },
  {
   "attachments": {},
   "cell_type": "markdown",
   "metadata": {},
   "source": [
    "Neste notebook, apresentamos o uso de Machine Learning com Regressão Logística e `Processamento de Linguagem Natural (PLN)`, o nosso objetivo é a previsão das tags das tecnologias e linguagens de programação com base em perguntas mais frequentes criadas em 'chamados' do **GLPI**, utilizamos um conjunto de dados importados da base de dados de produção do **Help Desk** da Unimed Natal.\n",
    "\n",
    "Criamos gráficos trazendo as top 10 pavras mais frequentes no modelo e outro gráfico com as tops 10 tags mais utilizados no modelo treinado.\n",
    "\n",
    "* Repositório do Projeto no Github: https://github.com/LuksJobs/previsao-pln"
   ]
  },
  {
   "cell_type": "markdown",
   "metadata": {},
   "source": [
    "## Estudo de caso"
   ]
  },
  {
   "attachments": {},
   "cell_type": "markdown",
   "metadata": {},
   "source": [
    "O **Problema de Negócio** que queremos resolver é `realizar predições das respectivas tags a partir das perguntas geradas` através da ferramenta de Help Desk da Unimed Natal: GLPI no qual faremos o treinamento do modelo através do aprendizado de máquina com algoritmo supervisionado. . "
   ]
  },
  {
   "cell_type": "markdown",
   "metadata": {},
   "source": [
    "## Importando as bibliotecas"
   ]
  },
  {
   "cell_type": "markdown",
   "metadata": {},
   "source": [
    "Para nosso estudo de caso, vamos fazer uso das seguintes bibliotecas:\n",
    "- **Numpy**: um pacote para computação científica.\n",
    "- **Pandas**: uma biblioteca de alta-performance, fácil para manipulação de dataframes e análises de dados.\n",
    "- **seaborn**: para visualizações.\n",
    "- **scikit-learn**: um pacote para ferramentas para aprendizado de máquinas.\n",
    "- **NLTK**: uma plataforma para trabalhar com linguagem natural."
   ]
  },
  {
   "cell_type": "markdown",
   "metadata": {},
   "source": [
    "# Instalando as dependências (Pacotes) no Linux\n",
    "\n",
    "* ```sudo apt install python3-numpy``` - Instalação da biblioteca do **Numpy** no Python3\n",
    "* ```sudo apt install python3-pandas``` - Instalação da biblioteca do **Pandas** no Python3\n",
    "* ```sudo apt install python3-seaborn``` - - Instalação da biblioteca do **Seaborn** no Python3\n",
    "* ```sudo apt install python3-nltk``` - Instalação da biblioteca do **NLTK** no Python3\n",
    "* ```sudo apt install python3-scikit-learn``` - Instalação da biblioteca do **SCIKIT** no Python3\n",
    "* ```sudo apt install python3-matplotlib``` - - Instalação da biblioteca do **MATPLOTLIB** no Python3"
   ]
  },
  {
   "cell_type": "code",
   "execution_count": 212,
   "metadata": {},
   "outputs": [
    {
     "name": "stderr",
     "output_type": "stream",
     "text": [
      "[nltk_data] Downloading package stopwords to /home/lucas-\n",
      "[nltk_data]     dantas/nltk_data...\n",
      "[nltk_data]   Package stopwords is already up-to-date!\n"
     ]
    }
   ],
   "source": [
    "# importando as bibliotecas\n",
    "import nltk\n",
    "from nltk.corpus import stopwords\n",
    "\n",
    "import pandas as pd\n",
    "import numpy as np\n",
    "import seaborn as sns\n",
    "import matplotlib.pyplot as plt\n",
    "\n",
    "from ast import literal_eval\n",
    "import re\n",
    "from collections import Counter\n",
    "from itertools import chain\n",
    "\n",
    "from sklearn.feature_extraction.text import CountVectorizer\n",
    "from sklearn.feature_extraction.text import TfidfVectorizer\n",
    "from sklearn.preprocessing import MultiLabelBinarizer\n",
    "from sklearn.multiclass import OneVsRestClassifier\n",
    "from sklearn.linear_model import LogisticRegression, RidgeClassifier\n",
    "from sklearn.metrics import accuracy_score\n",
    "from sklearn.metrics import f1_score\n",
    "from sklearn.metrics import roc_auc_score \n",
    "from sklearn.metrics import average_precision_score\n",
    "from sklearn.metrics import recall_score\n",
    "#from metrics import roc_auc #deu erro na importação da biblioteca \"metrics\"\n",
    "\n",
    "nltk.download('stopwords') # caso a lista esteja desatualizada\n",
    "%matplotlib inline"
   ]
  },
  {
   "cell_type": "markdown",
   "metadata": {},
   "source": [
    "Neste projeto, contaremos com 2 conjuntos de dados: **treino** (train) e **validação** (validation), no qual é composto por `títulos` e suas `tags` correspondentes (somente essas duas colunas)."
   ]
  },
  {
   "cell_type": "markdown",
   "metadata": {},
   "source": [
    "## Importando o conjunto de dados"
   ]
  },
  {
   "cell_type": "markdown",
   "metadata": {},
   "source": [
    "Vamos iniciar criando um função para importação dos dados. Nessa importação as *tags* são importadas entre aspas simples, então utilizaremos a função `literal_eval` no qual converte a string em um objeto, para suprimirmos as aspas."
   ]
  },
  {
   "cell_type": "code",
   "execution_count": 213,
   "metadata": {},
   "outputs": [],
   "source": [
    "# criando a função\n",
    "def read_data(filename):\n",
    "    \n",
    "    # importando o arquivo\n",
    "    data = pd.read_csv(filename,  sep=\"\\t\")\n",
    "    \n",
    "    # removendo as aspas que são importadas juntas\n",
    "    #data['tags'] = data['tags'].apply(literal_eval)\n",
    "\n",
    "    # Tratamento dos valores NaN na coluna 'tags'\n",
    "    data[\"tags\"] = data[\"tags\"].apply(lambda x: literal_eval(x) if not pd.isna(x) else [])\n",
    "    \n",
    "    # retornando o arquivo\n",
    "    return data"
   ]
  },
  {
   "cell_type": "markdown",
   "metadata": {},
   "source": [
    "Agora vamos importar os dois arquivos."
   ]
  },
  {
   "cell_type": "code",
   "execution_count": 214,
   "metadata": {},
   "outputs": [],
   "source": [
    "# importando os dados de treino\n",
    "train = read_data('data/traiin.tsv')\n",
    "\n",
    "# Imprimir o DataFrame train\n",
    "#print(train.head())\n",
    "\n",
    "# importando os dados de validação\n",
    "validation = read_data('data/validatiion.tsv')\n",
    "\n",
    "# Imprimir o DataFrame validation\n",
    "#print(validation.head())"
   ]
  },
  {
   "cell_type": "markdown",
   "metadata": {},
   "source": [
    "Vamos dar uma olhada nas primeiras linhas de cada conjunto com o método `head()`."
   ]
  },
  {
   "cell_type": "code",
   "execution_count": 215,
   "metadata": {},
   "outputs": [
    {
     "data": {
      "text/html": [
       "<div>\n",
       "<style scoped>\n",
       "    .dataframe tbody tr th:only-of-type {\n",
       "        vertical-align: middle;\n",
       "    }\n",
       "\n",
       "    .dataframe tbody tr th {\n",
       "        vertical-align: top;\n",
       "    }\n",
       "\n",
       "    .dataframe thead th {\n",
       "        text-align: right;\n",
       "    }\n",
       "</style>\n",
       "<table border=\"1\" class=\"dataframe\">\n",
       "  <thead>\n",
       "    <tr style=\"text-align: right;\">\n",
       "      <th></th>\n",
       "      <th>title</th>\n",
       "      <th>tags</th>\n",
       "    </tr>\n",
       "  </thead>\n",
       "  <tbody>\n",
       "    <tr>\n",
       "      <th>0</th>\n",
       "      <td>Como desenhar um gráfico de pontos empilhados ...</td>\n",
       "      <td>[r]</td>\n",
       "    </tr>\n",
       "    <tr>\n",
       "      <th>1</th>\n",
       "      <td>selecionar todos os registros do MySQL onde um...</td>\n",
       "      <td>[php, mysql]</td>\n",
       "    </tr>\n",
       "    <tr>\n",
       "      <th>2</th>\n",
       "      <td>Como encerrar um aplicativo do Windows Phone 8.1</td>\n",
       "      <td>[c#]</td>\n",
       "    </tr>\n",
       "    <tr>\n",
       "      <th>3</th>\n",
       "      <td>obter a hora atual em um país específico via j...</td>\n",
       "      <td>[javascript, jquery]</td>\n",
       "    </tr>\n",
       "    <tr>\n",
       "      <th>4</th>\n",
       "      <td>Configurando o Tomcat para usar SSL</td>\n",
       "      <td>[java]</td>\n",
       "    </tr>\n",
       "    <tr>\n",
       "      <th>5</th>\n",
       "      <td>Plugin Awesome Nested Set - como adicionar nov...</td>\n",
       "      <td>[ruby-on-rails]</td>\n",
       "    </tr>\n",
       "    <tr>\n",
       "      <th>6</th>\n",
       "      <td>Como criar um mapa a partir de uma resposta JS...</td>\n",
       "      <td>[ruby, ruby-on-rails-3, json]</td>\n",
       "    </tr>\n",
       "    <tr>\n",
       "      <th>7</th>\n",
       "      <td>testar rspec se o método é chamado</td>\n",
       "      <td>[ruby]</td>\n",
       "    </tr>\n",
       "    <tr>\n",
       "      <th>8</th>\n",
       "      <td>Exceção SpringBoot Catalina LifeCycle</td>\n",
       "      <td>[java, spring, spring-mvc]</td>\n",
       "    </tr>\n",
       "    <tr>\n",
       "      <th>9</th>\n",
       "      <td>Como importar dados do Excel para um banco de ...</td>\n",
       "      <td>[php, codeigniter]</td>\n",
       "    </tr>\n",
       "  </tbody>\n",
       "</table>\n",
       "</div>"
      ],
      "text/plain": [
       "                                               title  \\\n",
       "0  Como desenhar um gráfico de pontos empilhados ...   \n",
       "1  selecionar todos os registros do MySQL onde um...   \n",
       "2   Como encerrar um aplicativo do Windows Phone 8.1   \n",
       "3  obter a hora atual em um país específico via j...   \n",
       "4                Configurando o Tomcat para usar SSL   \n",
       "5  Plugin Awesome Nested Set - como adicionar nov...   \n",
       "6  Como criar um mapa a partir de uma resposta JS...   \n",
       "7                 testar rspec se o método é chamado   \n",
       "8              Exceção SpringBoot Catalina LifeCycle   \n",
       "9  Como importar dados do Excel para um banco de ...   \n",
       "\n",
       "                            tags  \n",
       "0                            [r]  \n",
       "1                   [php, mysql]  \n",
       "2                           [c#]  \n",
       "3           [javascript, jquery]  \n",
       "4                         [java]  \n",
       "5                [ruby-on-rails]  \n",
       "6  [ruby, ruby-on-rails-3, json]  \n",
       "7                         [ruby]  \n",
       "8     [java, spring, spring-mvc]  \n",
       "9             [php, codeigniter]  "
      ]
     },
     "execution_count": 215,
     "metadata": {},
     "output_type": "execute_result"
    }
   ],
   "source": [
    "# visualizando as primeiras 10 linhas do conjunto de arquivos treinandos\n",
    "train.head(10)"
   ]
  },
  {
   "cell_type": "code",
   "execution_count": 174,
   "metadata": {},
   "outputs": [
    {
     "data": {
      "text/html": [
       "<div>\n",
       "<style scoped>\n",
       "    .dataframe tbody tr th:only-of-type {\n",
       "        vertical-align: middle;\n",
       "    }\n",
       "\n",
       "    .dataframe tbody tr th {\n",
       "        vertical-align: top;\n",
       "    }\n",
       "\n",
       "    .dataframe thead th {\n",
       "        text-align: right;\n",
       "    }\n",
       "</style>\n",
       "<table border=\"1\" class=\"dataframe\">\n",
       "  <thead>\n",
       "    <tr style=\"text-align: right;\">\n",
       "      <th></th>\n",
       "      <th>title</th>\n",
       "      <th>tags</th>\n",
       "    </tr>\n",
       "  </thead>\n",
       "  <tbody>\n",
       "    <tr>\n",
       "      <th>0</th>\n",
       "      <td>Por que o odbc_exec sempre falha?</td>\n",
       "      <td>[php, sql]</td>\n",
       "    </tr>\n",
       "    <tr>\n",
       "      <th>1</th>\n",
       "      <td>Acessar uma variável de classes base de dentro...</td>\n",
       "      <td>[javascript]</td>\n",
       "    </tr>\n",
       "    <tr>\n",
       "      <th>2</th>\n",
       "      <td>Content-Type \"application/json\" não é obrigató...</td>\n",
       "      <td>[ruby-on-rails, ruby]</td>\n",
       "    </tr>\n",
       "    <tr>\n",
       "      <th>3</th>\n",
       "      <td>Sessões no Sinatra: Usadas para Passar Variáveis</td>\n",
       "      <td>[ruby, session]</td>\n",
       "    </tr>\n",
       "    <tr>\n",
       "      <th>4</th>\n",
       "      <td>Recebendo erro - tipo \"json\" não existe - no P...</td>\n",
       "      <td>[ruby-on-rails, ruby, json]</td>\n",
       "    </tr>\n",
       "    <tr>\n",
       "      <th>5</th>\n",
       "      <td>biblioteca não encontrada para.....?</td>\n",
       "      <td>[c++, iphone, ios, xcode]</td>\n",
       "    </tr>\n",
       "    <tr>\n",
       "      <th>6</th>\n",
       "      <td>Arquivo .csproj - Adição/Exclusão programática...</td>\n",
       "      <td>[c#]</td>\n",
       "    </tr>\n",
       "    <tr>\n",
       "      <th>7</th>\n",
       "      <td>TypeError: makedirs() recebeu um argumento de ...</td>\n",
       "      <td>[python, django]</td>\n",
       "    </tr>\n",
       "    <tr>\n",
       "      <th>8</th>\n",
       "      <td>Como Pan um div usando JQuery</td>\n",
       "      <td>[javascript, jquery, html]</td>\n",
       "    </tr>\n",
       "    <tr>\n",
       "      <th>9</th>\n",
       "      <td>Tutoriais intermediários/avançados do Hibernate</td>\n",
       "      <td>[java, hibernate]</td>\n",
       "    </tr>\n",
       "  </tbody>\n",
       "</table>\n",
       "</div>"
      ],
      "text/plain": [
       "                                               title  \\\n",
       "0                  Por que o odbc_exec sempre falha?   \n",
       "1  Acessar uma variável de classes base de dentro...   \n",
       "2  Content-Type \"application/json\" não é obrigató...   \n",
       "3   Sessões no Sinatra: Usadas para Passar Variáveis   \n",
       "4  Recebendo erro - tipo \"json\" não existe - no P...   \n",
       "5               biblioteca não encontrada para.....?   \n",
       "6  Arquivo .csproj - Adição/Exclusão programática...   \n",
       "7  TypeError: makedirs() recebeu um argumento de ...   \n",
       "8                      Como Pan um div usando JQuery   \n",
       "9   Tutoriais intermediários/avançados do Hibernate    \n",
       "\n",
       "                          tags  \n",
       "0                   [php, sql]  \n",
       "1                 [javascript]  \n",
       "2        [ruby-on-rails, ruby]  \n",
       "3              [ruby, session]  \n",
       "4  [ruby-on-rails, ruby, json]  \n",
       "5    [c++, iphone, ios, xcode]  \n",
       "6                         [c#]  \n",
       "7             [python, django]  \n",
       "8   [javascript, jquery, html]  \n",
       "9            [java, hibernate]  "
      ]
     },
     "execution_count": 174,
     "metadata": {},
     "output_type": "execute_result"
    }
   ],
   "source": [
    "# visualizando as primeiras 10 linhas do conjunto de arquivos validados\n",
    "validation.head(10)"
   ]
  },
  {
   "cell_type": "markdown",
   "metadata": {},
   "source": [
    "Podemos notar que temos aspas, underlines, dois pontos, traços na coluna **title** e a coluna **tags** não tem uma quantidade fixa de palavras, além de cada termo está em formato de lista.\n",
    "\n",
    "Vamos agora dar uma olhada na dimensão desses dados."
   ]
  },
  {
   "cell_type": "code",
   "execution_count": 216,
   "metadata": {},
   "outputs": [
    {
     "name": "stdout",
     "output_type": "stream",
     "text": [
      "Os dados de TREINO possui:\n",
      "55 linhas\n",
      "2 colunas\n",
      "\n",
      "Os dados de VALIDAÇÃO possui:\n",
      "55 linhas\n",
      "2 colunas\n"
     ]
    }
   ],
   "source": [
    "# visualizando as dimensões em quantidade de linhas e colunas dos dados de treino;\n",
    "print(f\"Os dados de TREINO possui:\")\n",
    "print(f\"{train.shape[0]} linhas\")\n",
    "print(f\"{train.shape[1]} colunas\\n\")\n",
    "\n",
    "# visualizando as dimensões em quantidade de linhas e colunas dos dados de treino;\n",
    "print(f\"Os dados de VALIDAÇÃO possui:\")\n",
    "print(f\"{validation.shape[0]} linhas\")\n",
    "print(f\"{validation.shape[1]} colunas\")"
   ]
  },
  {
   "cell_type": "markdown",
   "metadata": {},
   "source": [
    "Observamos que o conjunto de validação corresponde à 30% do conjunto de treino, um número bom para utilizarmos como validação do nosso modelo.\n",
    "\n",
    "Vamos então, separar nossa variável `preditora` (coluna **title**) da nossa variável `alvo` (coluna **tags**), em ambos os conjuntos, utilizaremos o método `values`."
   ]
  },
  {
   "cell_type": "code",
   "execution_count": 217,
   "metadata": {},
   "outputs": [],
   "source": [
    "# separando os dados de treino\n",
    "X_train, y_train = train['title'].values, train['tags'].values\n",
    "\n",
    "# separando os dados de validação\n",
    "X_val, y_val = validation['title'].values, validation['tags'].values"
   ]
  },
  {
   "cell_type": "markdown",
   "metadata": {},
   "source": [
    "Os arquivos viraram uma lista, no qual cada linha se tornou um elemento dessa lista, vamos dar uma olhada para entendermos melhor no *X_train*, as outras seguem da mesma forma."
   ]
  },
  {
   "cell_type": "code",
   "execution_count": 223,
   "metadata": {},
   "outputs": [
    {
     "data": {
      "text/plain": [
       "array(['Como desenhar um gráfico de pontos empilhados no R?',\n",
       "       'selecionar todos os registros do MySQL onde um campo de data e hora é menor que um valor especificado',\n",
       "       'Como encerrar um aplicativo do Windows Phone 8.1',\n",
       "       'obter a hora atual em um país específico via jQuery',\n",
       "       'Configurando o Tomcat para usar SSL',\n",
       "       'Plugin Awesome Nested Set - como adicionar novos filhos à árvore em vários níveis',\n",
       "       'Como criar um mapa a partir de uma resposta JSON no Ruby on Rails 3?',\n",
       "       'testar rspec se o método é chamado',\n",
       "       'Exceção SpringBoot Catalina LifeCycle',\n",
       "       'Como importar dados do Excel para um banco de dados MySQL usando PHP',\n",
       "       'Obtendo o objeto java.lang.Class<T> para um tipo parametrizado sem construir a classe em q_uestion?',\n",
       "       'iPad não seleciona todo o texto dentro de uma entrada de texto ao tocar',\n",
       "       'Como o $ do jQuery é uma função e um objeto?',\n",
       "       'Eclipse C++ MinGW - Não é possível iniciar o programa <Terminado>',\n",
       "       'Em JavaScript, como posso chamar um método de protótipo em outro método de protótipo?',\n",
       "       'obter interseção de uma lista de conjuntos',\n",
       "       'Não é mais possível ocultar o teclado durante o viewWillDisappear no iOS7',\n",
       "       'Como buscar a chave de um JSON em Swift?',\n",
       "       'Como alterar o modelo de cabeçalho do Pivot no Windows Phone 8',\n",
       "       'criptografia da connectionString',\n",
       "       'Como permitir que a interface do usuário seja atualizada durante uma operação UI demorada',\n",
       "       'Melhor maneira de executar um arquivo Ruby usando Python e como obter a saída do console Ruby quando o arquivo Ruby é executado a partir do Python?',\n",
       "       'criar 2 miniaturas de uma vez no CodeIgniter',\n",
       "       'Caractere Java vs char: o que dizer sobre o uso de memória?',\n",
       "       'Fechar modal do Bootstrap ao pressionar a tecla Enter',\n",
       "       'Consulta Linq com agrupamento para recuperar a porcentagem',\n",
       "       'Problema com campo de rótulo - OpenErp',\n",
       "       'Como manter 2 objetos sempre visíveis, escalando o campo de visão? (ou eixo z e y)',\n",
       "       'Atributo AttributeError: objeto \"NoneType\" não possui o atributo \"split\"',\n",
       "       'Como anexar a um arquivo .mat usando scipy.io.savemat?',\n",
       "       'Substituir o onClick do JQuery em h:commandLink',\n",
       "       'Como redirecionar a saída de um programa Ruby para algum arquivo',\n",
       "       'Erro \"Access-Control-Allow-Origin\" ausente no recurso solicitado',\n",
       "       'Criando JSON no Windows 8 C# usando IJsonValue: Não é possível converter implicitamente o tipo \"string\" para \"Windows.Data.Json.IJsonValue\"',\n",
       "       'Capitalização de rótulo do Django ModelForm',\n",
       "       'como mostrar/ocultar div com slide em JavaScript (sem jQuery)',\n",
       "       'Como evitar o giro ocupado em Java',\n",
       "       'Laravel 4: Input::all() não retorna dados com $.ajax POST',\n",
       "       'Como lidar com net::ERR_CONNECTION_REFUSED no jquery ajax',\n",
       "       'Função Year no R',\n",
       "       'Como usar o retrofit como um singleton enquanto usa o conversor gson?',\n",
       "       'Como usar o SetTimer em um arquivo .cpp não relacionado a diálogo em meu aplicativo MFC?',\n",
       "       'Copiando uma referência web para um novo projeto',\n",
       "       'Consulta LINQ para selecionar os cinco primeiros',\n",
       "       'JavaScript: como posso inserir uma string em um índice específico',\n",
       "       'Apache POI: alterar o formato da página para planilha do Excel',\n",
       "       'Barra de progresso indeterminada do Python Tkinter não está em execução',\n",
       "       'como armazenar o caminho da imagem no banco de dados MySQL usando C#',\n",
       "       'Erro de conexão jdbc: não associado a uma conexão gerenciada',\n",
       "       'Como usar várias tabelas em um modelo no yii2',\n",
       "       'Obter todos os nomes de controladores no ASP.NET MVC4',\n",
       "       'conversão de matriz de inteiros para matriz de objetos em Java',\n",
       "       'Erro ao fazer upload de arquivo em PHP',\n",
       "       'Métodos clear() em Java',\n",
       "       'Impressão de floats com um número específico de zeros'],\n",
       "      dtype=object)"
      ]
     },
     "execution_count": 223,
     "metadata": {},
     "output_type": "execute_result"
    }
   ],
   "source": [
    "# visualizando X_train\n",
    "X_train"
   ]
  },
  {
   "cell_type": "markdown",
   "metadata": {},
   "source": [
    "Em geral, quando trabalhamos com Processamento de Linguagem Natural, os **dados são desestruturados**, como podemos notar também nesse documento. **Devemos analisar com cautela** e escolher a melhor forma que não irá descaracterizar o sentido ou a palavra do que estamos tratando.\n",
    "\n",
    "Vamos criar uma função para tratar nossos dados, removendo **símbolos** e **caracteres especiais** e também as **stopwords**, que são palavras que aparecem muitas vezes mas que não agregam valor ao nosso objetivo e se mantivermos podem causar ruidos e não termos uma boa precisão nas previsões."
   ]
  },
  {
   "cell_type": "markdown",
   "metadata": {},
   "source": [
    "## Preparação do texto"
   ]
  },
  {
   "cell_type": "markdown",
   "metadata": {},
   "source": [
    "Nesta etapa vamos começar a \"limpar\" nosso texto, removendo tudo que não tem valor para nosso objetivo.\n",
    "\n",
    "Vamos iniciar criando uma função para isso, fazendo uso do pacote `re`, *Regular Expression Operations* e com ela podemos utilizar dos recursos do REGEX.\n",
    "\n",
    "Faremos uso do método *compile* (`re.compile`), dentro de um objeto, para compilar a *expressão regular* que queremos, com isso quando a função encontrar essa expressão no texto, ele a removerá. Podemos utilizar para remover caracteres especiais, números, entre outros padrões existentes. Depois usaremos esse objeto como uma função com o método `sub`, passando como parâmetros o que irá substituir e o conjunto de dados."
   ]
  },
  {
   "cell_type": "code",
   "execution_count": 244,
   "metadata": {},
   "outputs": [],
   "source": [
    "# criando os objetos com as expressões regulares\n",
    "remove_espec_carac = re.compile('[/(){}\\[\\]\\|@,;]')\n",
    "remove_symb = re.compile('[^0-9a-z #+_]')\n",
    "\n",
    "# criando um objeto para remoção de stopwords no idioma ingles\n",
    "stopwords = stopwords.words('portuguese')\n",
    "\n",
    "# criando a função\n",
    "def text_prepare(text):\n",
    "    \n",
    "    # normalizando nosso texto em letras minúsculas, assim facilita nossa preparação\n",
    "    text = text.lower()\n",
    "    \n",
    "    # substituindo caracteres especiais por espaços em branco\n",
    "    text = remove_espec_carac.sub(' ', text)\n",
    "    \n",
    "    # retornando apenas letras e números\n",
    "    text = remove_symb.sub('', text)\n",
    "    \n",
    "    # removendo as stopwords\n",
    "    text = ' '.join(word for word in text.split() if word not in stopwords)\n",
    "    \n",
    "    # retornando o texto modificado\n",
    "    return text"
   ]
  },
  {
   "cell_type": "markdown",
   "metadata": {},
   "source": [
    "Para verificarmos se nossa função de preparação está funcionando, vamos criar um pequeno texto com as informações que queremos remover e analisar."
   ]
  },
  {
   "cell_type": "code",
   "execution_count": 245,
   "metadata": {},
   "outputs": [],
   "source": [
    "# Criando a função\n",
    "def test_text_prepare():\n",
    "    \n",
    "    # definindo os exemplos\n",
    "    examples = [\"SQL Server - algum equivalente à função CHOOSE do Excel?\",\n",
    "                \"Como liberar vetor de memória c++<int> * arr?\"]\n",
    "    \n",
    "    # inserindo a resposta correta\n",
    "    answers = [\"equivalente do sql server excede a função de escolha\", \n",
    "               \"vetor de memória c ++ livre arr\"]\n",
    "    \n",
    "    # Aplicando um loop e comparando a limpeza\n",
    "    for ex, ans in zip(examples, answers):\n",
    "        \n",
    "    # condições para retornar se o resultado foi aprovado ou reprovado\n",
    "        if text_prepare(ex) != ans:\n",
    "            return \"Resposta incorreta para: '%s'\" % ex\n",
    "    return 'Testes básicos aprovados.'"
   ]
  },
  {
   "cell_type": "code",
   "execution_count": 246,
   "metadata": {},
   "outputs": [
    {
     "name": "stdout",
     "output_type": "stream",
     "text": [
      "Resposta incorreta para: 'SQL Server - algum equivalente à função CHOOSE do Excel?'\n"
     ]
    }
   ],
   "source": [
    "# rodando a função de teste\n",
    "print(test_text_prepare())"
   ]
  },
  {
   "cell_type": "markdown",
   "metadata": {},
   "source": [
    "Nossa função passou no teste! Agora podemos pré-processar os *titles* usando a função **text_prepare** para os conjuntos de dados de treino e validação."
   ]
  },
  {
   "cell_type": "code",
   "execution_count": 247,
   "metadata": {},
   "outputs": [],
   "source": [
    "# aplicando a função nos dados de treino\n",
    "X_train = [text_prepare(x) for x in X_train]\n",
    "\n",
    "# aplicando a função nos dados de validação\n",
    "X_val = [text_prepare(x) for x in X_val]"
   ]
  },
  {
   "cell_type": "markdown",
   "metadata": {},
   "source": [
    "Vamos dar uma olhada nas primeiras linhas, mas que na verdade são elementos porque estão contidos em uma lista e não mais como um dataframe."
   ]
  },
  {
   "cell_type": "code",
   "execution_count": 248,
   "metadata": {},
   "outputs": [
    {
     "data": {
      "text/plain": [
       "['desenhar grfico pontos empilhados r',\n",
       " 'selecionar todos registros mysql onde campo data hora menor valor especificado',\n",
       " 'encerrar aplicativo windows phone 81',\n",
       " 'obter hora atual pas especfico via jquery',\n",
       " 'configurando tomcat usar ssl',\n",
       " 'plugin awesome nested set adicionar novos filhos rvore vrios nveis',\n",
       " 'criar mapa partir resposta json ruby on rails 3',\n",
       " 'testar rspec mtodo chamado',\n",
       " 'exceo springboot catalina lifecycle',\n",
       " 'importar dados excel banco dados mysql usando php',\n",
       " 'obtendo objeto javalangclasst tipo parametrizado construir classe q_uestion',\n",
       " 'ipad seleciona todo texto dentro entrada texto tocar',\n",
       " 'jquery funo objeto',\n",
       " 'eclipse c++ mingw possvel iniciar programa terminado',\n",
       " 'javascript posso chamar mtodo prottipo outro mtodo prottipo',\n",
       " 'obter interseo lista conjuntos',\n",
       " 'possvel ocultar teclado durante viewwilldisappear ios7',\n",
       " 'buscar chave json swift',\n",
       " 'alterar modelo cabealho pivot windows phone 8',\n",
       " 'criptografia connectionstring',\n",
       " 'permitir interface usurio atualizada durante operao ui demorada',\n",
       " 'melhor maneira executar arquivo ruby usando python obter sada console ruby arquivo ruby executado partir python',\n",
       " 'criar 2 miniaturas vez codeigniter',\n",
       " 'caractere java vs char dizer sobre uso memria',\n",
       " 'fechar modal bootstrap pressionar tecla enter',\n",
       " 'consulta linq agrupamento recuperar porcentagem',\n",
       " 'problema campo rtulo openerp',\n",
       " 'manter 2 objetos sempre visveis escalando campo viso eixo z y',\n",
       " 'atributo attributeerror objeto nonetype possui atributo split',\n",
       " 'anexar arquivo mat usando scipyiosavemat',\n",
       " 'substituir onclick jquery hcommandlink',\n",
       " 'redirecionar sada programa ruby algum arquivo',\n",
       " 'erro accesscontrolalloworigin ausente recurso solicitado',\n",
       " 'criando json windows 8 c# usando ijsonvalue possvel converter implicitamente tipo string windowsdatajsonijsonvalue',\n",
       " 'capitalizao rtulo django modelform',\n",
       " 'mostrar ocultar div slide javascript jquery',\n",
       " 'evitar giro ocupado java',\n",
       " 'laravel 4 inputall retorna dados ajax post',\n",
       " 'lidar neterr_connection_refused jquery ajax',\n",
       " 'funo year r',\n",
       " 'usar retrofit singleton enquanto usa conversor gson',\n",
       " 'usar settimer arquivo cpp relacionado dilogo aplicativo mfc',\n",
       " 'copiando referncia web novo projeto',\n",
       " 'consulta linq selecionar cinco primeiros',\n",
       " 'javascript posso inserir string ndice especfico',\n",
       " 'apache poi alterar formato pgina planilha excel',\n",
       " 'barra progresso indeterminada python tkinter est execuo',\n",
       " 'armazenar caminho imagem banco dados mysql usando c#',\n",
       " 'erro conexo jdbc associado conexo gerenciada',\n",
       " 'usar vrias tabelas modelo yii2']"
      ]
     },
     "execution_count": 248,
     "metadata": {},
     "output_type": "execute_result"
    }
   ],
   "source": [
    "# visualizando os 50 primeiros elementos\n",
    "X_train[:50]"
   ]
  },
  {
   "cell_type": "markdown",
   "metadata": {},
   "source": [
    "## Contando as palavras"
   ]
  },
  {
   "cell_type": "markdown",
   "metadata": {},
   "source": [
    "Seguindo aqui com nosso texto \"limpo\", podemos calcular as quantidades de ocorrência de cada palavra nos conjuntos de treino. Vamos utilizar a função `Counter` do pacote `Collections` para fazer contagem e a função `chain` do pacote `itertools` que nos fornece um *loop* que irá iterar as palavras com suas respectivas frequencias. "
   ]
  },
  {
   "cell_type": "code",
   "execution_count": 232,
   "metadata": {},
   "outputs": [],
   "source": [
    "# realizando a contagem e inserindo em um dicionário\n",
    "words_counts = Counter(chain.from_iterable([i.split(\" \") for i in X_train]))\n",
    "\n",
    "# ordenando do maior para o menor\n",
    "words_freq = sorted(words_counts.items(), key=lambda x: x[1], reverse=True)"
   ]
  },
  {
   "cell_type": "markdown",
   "metadata": {},
   "source": [
    "Vamos dar uma olhada no nas perguntas mais frequentes em uma escala de **TOP 50**, ou seja, as 50 palavras que mais apareceram."
   ]
  },
  {
   "cell_type": "code",
   "execution_count": 233,
   "metadata": {},
   "outputs": [
    {
     "data": {
      "text/plain": [
       "[('arquivo', 6),\n",
       " ('jquery', 5),\n",
       " ('ruby', 5),\n",
       " ('usando', 5),\n",
       " ('obter', 4),\n",
       " ('usar', 4),\n",
       " ('dados', 4),\n",
       " ('java', 4),\n",
       " ('mysql', 3),\n",
       " ('campo', 3),\n",
       " ('windows', 3),\n",
       " ('especfico', 3),\n",
       " ('json', 3),\n",
       " ('mtodo', 3),\n",
       " ('objeto', 3),\n",
       " ('possvel', 3),\n",
       " ('javascript', 3),\n",
       " ('python', 3),\n",
       " ('erro', 3),\n",
       " ('r', 2),\n",
       " ('selecionar', 2),\n",
       " ('todos', 2),\n",
       " ('hora', 2),\n",
       " ('aplicativo', 2),\n",
       " ('phone', 2),\n",
       " ('criar', 2),\n",
       " ('partir', 2),\n",
       " ('excel', 2),\n",
       " ('banco', 2),\n",
       " ('php', 2),\n",
       " ('tipo', 2),\n",
       " ('texto', 2),\n",
       " ('funo', 2),\n",
       " ('programa', 2),\n",
       " ('posso', 2),\n",
       " ('prottipo', 2),\n",
       " ('ocultar', 2),\n",
       " ('durante', 2),\n",
       " ('alterar', 2),\n",
       " ('modelo', 2),\n",
       " ('8', 2),\n",
       " ('sada', 2),\n",
       " ('2', 2),\n",
       " ('consulta', 2),\n",
       " ('linq', 2),\n",
       " ('rtulo', 2),\n",
       " ('objetos', 2),\n",
       " ('atributo', 2),\n",
       " ('c#', 2),\n",
       " ('string', 2)]"
      ]
     },
     "execution_count": 233,
     "metadata": {},
     "output_type": "execute_result"
    }
   ],
   "source": [
    "words_freq[:50]"
   ]
  },
  {
   "cell_type": "markdown",
   "metadata": {},
   "source": [
    "Vamos visualizar em forma de gráfico, pois ficará mais visível e intuitivo, utilizando um `barplot` para visualizar.\n",
    "\n",
    "Mas teremos que mudar o formato antes, pois como o resultado é uma tupla, vamos converter em um dicionário, separar e deixar as palavras em uma lista, assim como as ocorrências, separar e colocar também em outra lista."
   ]
  },
  {
   "cell_type": "code",
   "execution_count": 234,
   "metadata": {},
   "outputs": [
    {
     "data": {
      "image/png": "[encoded data removed]",
      "text/plain": [
       "<Figure size 1000x600 with 1 Axes>"
      ]
     },
     "metadata": {},
     "output_type": "display_data"
    }
   ],
   "source": [
    "# colocando as palavras em um objeto do tipo lista\n",
    "words_list = list(dict(words_freq[:10]).keys())\n",
    "\n",
    "# colocando as ocorrências em um objeto do tipo lista\n",
    "occur_list = list(dict(words_freq[:10]).values())\n",
    "\n",
    "# definindo a área de plotagem\n",
    "plt.figure(figsize=(10,6))\n",
    "\n",
    "# criando o gráfico\n",
    "ax = sns.barplot(x = words_list, y = occur_list)\n",
    "\n",
    "# inserindo o título\n",
    "ax.set_title('TOP 10 das palavras (title) mais frequentes no modelo treinado')\n",
    "\n",
    "# rotacionando os rótulos do eixo x\n",
    "plt.xticks(rotation=30);"
   ]
  },
  {
   "cell_type": "markdown",
   "metadata": {},
   "source": [
    "A palavra **using** é a que mais aparece, acredito que seja em função da maioria das perguntas serem sobre \"como funciona\" algo, em seguida entram algumas linguagens de programação, assim como buscas por erros.\n",
    "\n",
    "Da mesma forma vamos fazer todo esse processo de contagem para as tags."
   ]
  },
  {
   "cell_type": "code",
   "execution_count": 235,
   "metadata": {},
   "outputs": [],
   "source": [
    "# realizando a contagem e inserindo em um dicionário\n",
    "tags_counts = Counter(chain.from_iterable([i for i in y_train]))\n",
    "\n",
    "# ordenando do maior para o menor\n",
    "tags_freq = sorted(tags_counts.items(), key=lambda x: x[1], reverse=True)"
   ]
  },
  {
   "cell_type": "markdown",
   "metadata": {},
   "source": [
    "Vamos também dar uma olhada no **TOP 10**, as 10 tags que mais apareceram."
   ]
  },
  {
   "cell_type": "code",
   "execution_count": 236,
   "metadata": {},
   "outputs": [
    {
     "data": {
      "text/plain": [
       "[('c#', 11),\n",
       " ('javascript', 10),\n",
       " ('java', 10),\n",
       " ('jquery', 8),\n",
       " ('python', 7),\n",
       " ('php', 6),\n",
       " ('ruby', 4),\n",
       " ('json', 4),\n",
       " ('mysql', 3),\n",
       " ('ios', 3)]"
      ]
     },
     "execution_count": 236,
     "metadata": {},
     "output_type": "execute_result"
    }
   ],
   "source": [
    "tags_freq[:10]"
   ]
  },
  {
   "cell_type": "markdown",
   "metadata": {},
   "source": [
    "Visualizando graficamente as **TOP 10** tags mais frequentes no modelo treinado."
   ]
  },
  {
   "cell_type": "code",
   "execution_count": 237,
   "metadata": {},
   "outputs": [
    {
     "data": {
      "image/png": "[encoded data removed]",
      "text/plain": [
       "<Figure size 1000x600 with 1 Axes>"
      ]
     },
     "metadata": {},
     "output_type": "display_data"
    }
   ],
   "source": [
    "# colocando as palavras em um objeto do tipo lista\n",
    "tags_list = list(dict(tags_freq[:10]).keys())\n",
    "\n",
    "# colocando as ocorrências em um objeto do tipo lista\n",
    "occur_list = list(dict(tags_freq[:10]).values())\n",
    "\n",
    "# definindo a área de plotagem\n",
    "plt.figure(figsize=(10,6))\n",
    "\n",
    "# criando o gráfico\n",
    "ax = sns.barplot(x = tags_list, y = occur_list)\n",
    "\n",
    "# inserindo o título\n",
    "ax.set_title('TOP 10 tags que mais frequentes no modelo treinado')\n",
    "\n",
    "# rotacionando os rótulos do eixo x\n",
    "plt.xticks(rotation=30);"
   ]
  },
  {
   "cell_type": "markdown",
   "metadata": {},
   "source": [
    "As tags que mais aparecem são linguagens de Programação, no qual são relacionadas com as perguntas, sobre o *uso* ou *erros* contidos nas perguntas, por exemplo."
   ]
  },
  {
   "cell_type": "markdown",
   "metadata": {},
   "source": [
    "## Conclusão"
   ]
  }
 ],
 "metadata": {
  "kernelspec": {
   "display_name": "Python 3",
   "language": "python",
   "name": "python3"
  },
  "language_info": {
   "codemirror_mode": {
    "name": "ipython",
    "version": 3
   },
   "file_extension": ".py",
   "mimetype": "text/x-python",
   "name": "python",
   "nbconvert_exporter": "python",
   "pygments_lexer": "ipython3",
   "version": "3.11.4"
  }
 },
 "nbformat": 4,
 "nbformat_minor": 4
}
